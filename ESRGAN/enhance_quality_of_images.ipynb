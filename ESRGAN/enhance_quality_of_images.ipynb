{
 "cells": [
  {
   "cell_type": "markdown",
   "id": "47929fca",
   "metadata": {},
   "source": [
    "The task is a super resolution using generative adversarial networks using pytorch. We need to enhance the quality of images by going from resolution of 64x64 to 128x128. This will be the backend of the project and we will also need this to be an API that uses AWS lambda and can be called from a mobile application or a website."
   ]
  },
  {
   "cell_type": "markdown",
   "id": "144496d2",
   "metadata": {},
   "source": [
    "# Clone Repo of pretrained model from github "
   ]
  },
  {
   "cell_type": "code",
   "execution_count": 8,
   "id": "d7e81a46",
   "metadata": {},
   "outputs": [
    {
     "name": "stderr",
     "output_type": "stream",
     "text": [
      "Cloning into 'ESRGAN'...\n"
     ]
    }
   ],
   "source": [
    "!git clone https://github.com/xinntao/ESRGAN"
   ]
  },
  {
   "cell_type": "markdown",
   "id": "c450e185",
   "metadata": {},
   "source": [
    "# Download the model from that link"
   ]
  },
  {
   "cell_type": "code",
   "execution_count": 10,
   "id": "d84e5d54",
   "metadata": {},
   "outputs": [],
   "source": [
    "# https://drive.google.com/drive/u/0/folders/17VYV_SoZZesU6mbxz2dMAIccSSlqLecY "
   ]
  },
  {
   "cell_type": "markdown",
   "id": "d56b13ee",
   "metadata": {},
   "source": [
    "# Install libraries"
   ]
  },
  {
   "cell_type": "code",
   "execution_count": 15,
   "id": "16a019bb",
   "metadata": {},
   "outputs": [],
   "source": [
    "#!pip3 install torch torchvision torchaudio --index-url https://download.pytorch.org/whl/cu118"
   ]
  },
  {
   "cell_type": "code",
   "execution_count": 32,
   "id": "afa7015a",
   "metadata": {},
   "outputs": [],
   "source": [
    "#!pip install opencv-python glob2"
   ]
  },
  {
   "cell_type": "markdown",
   "id": "ba3294d9",
   "metadata": {},
   "source": [
    "# place Low Resolution image in LR folder, then run python test.py"
   ]
  },
  {
   "cell_type": "code",
   "execution_count": 34,
   "id": "b662d160",
   "metadata": {},
   "outputs": [
    {
     "data": {
      "text/plain": [
       "'C:\\\\Users\\\\aliad\\\\enhance_quality_images\\\\training'"
      ]
     },
     "execution_count": 34,
     "metadata": {},
     "output_type": "execute_result"
    }
   ],
   "source": [
    "%pwd"
   ]
  },
  {
   "cell_type": "code",
   "execution_count": 35,
   "id": "a2b18969",
   "metadata": {},
   "outputs": [
    {
     "name": "stdout",
     "output_type": "stream",
     "text": [
      "C:\\Users\\aliad\\enhance_quality_images\\training\\ESRGAN\n"
     ]
    }
   ],
   "source": [
    "%cd C:\\\\Users\\\\aliad\\\\enhance_quality_images\\\\training\\\\ESRGAN"
   ]
  },
  {
   "cell_type": "code",
   "execution_count": 36,
   "id": "f4a65205",
   "metadata": {},
   "outputs": [
    {
     "data": {
      "text/plain": [
       "'C:\\\\Users\\\\aliad\\\\enhance_quality_images\\\\training\\\\ESRGAN'"
      ]
     },
     "execution_count": 36,
     "metadata": {},
     "output_type": "execute_result"
    }
   ],
   "source": [
    "%pwd"
   ]
  },
  {
   "cell_type": "code",
   "execution_count": 56,
   "id": "2ede356e",
   "metadata": {},
   "outputs": [
    {
     "name": "stdout",
     "output_type": "stream",
     "text": [
      "Model path models/RRDB_PSNR_x4.pth. \n",
      "Testing...\n",
      "1 1comic\n",
      "2 ali1\n",
      "3 ali2\n",
      "4 baboon\n",
      "5 comic\n",
      "6 cube\n",
      "7 OIP\n"
     ]
    },
    {
     "name": "stderr",
     "output_type": "stream",
     "text": [
      "Traceback (most recent call last):\n",
      "  File \"C:\\Users\\aliad\\enhance_quality_images\\training\\ESRGAN\\test.py\", line 35, in <module>\n",
      "    output = model(img_LR).data.squeeze().float().cpu().clamp_(0, 1).numpy()\n",
      "  File \"C:\\Python\\Python310\\lib\\site-packages\\torch\\nn\\modules\\module.py\", line 1518, in _wrapped_call_impl\n",
      "    return self._call_impl(*args, **kwargs)\n",
      "  File \"C:\\Python\\Python310\\lib\\site-packages\\torch\\nn\\modules\\module.py\", line 1527, in _call_impl\n",
      "    return forward_call(*args, **kwargs)\n",
      "  File \"C:\\Users\\aliad\\enhance_quality_images\\training\\ESRGAN\\RRDBNet_arch.py\", line 75, in forward\n",
      "    fea = self.lrelu(self.upconv2(F.interpolate(fea, scale_factor=2, mode='nearest')))\n",
      "  File \"C:\\Python\\Python310\\lib\\site-packages\\torch\\nn\\functional.py\", line 3983, in interpolate\n",
      "    return torch._C._nn.upsample_nearest2d(input, output_size, scale_factors)\n",
      "torch.cuda.OutOfMemoryError: CUDA out of memory. Tried to allocate 1.19 GiB. GPU 0 has a total capacty of 2.00 GiB of which 559.39 MiB is free. Of the allocated memory 448.11 MiB is allocated by PyTorch, and 637.89 MiB is reserved by PyTorch but unallocated. If reserved but unallocated memory is large try setting max_split_size_mb to avoid fragmentation.  See documentation for Memory Management and PYTORCH_CUDA_ALLOC_CONF\n"
     ]
    }
   ],
   "source": [
    "!python test.py"
   ]
  },
  {
   "cell_type": "code",
   "execution_count": null,
   "id": "c95209f8",
   "metadata": {},
   "outputs": [],
   "source": []
  }
 ],
 "metadata": {
  "kernelspec": {
   "display_name": "Python 3 (ipykernel)",
   "language": "python",
   "name": "python3"
  },
  "language_info": {
   "codemirror_mode": {
    "name": "ipython",
    "version": 3
   },
   "file_extension": ".py",
   "mimetype": "text/x-python",
   "name": "python",
   "nbconvert_exporter": "python",
   "pygments_lexer": "ipython3",
   "version": "3.10.5"
  }
 },
 "nbformat": 4,
 "nbformat_minor": 5
}
